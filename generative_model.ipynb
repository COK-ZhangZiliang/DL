{
 "cells": [
  {
   "cell_type": "markdown",
   "metadata": {},
   "source": [
    "# 1. GAN\n",
    "## 1.1 生成器（generator）\n",
    "- 在模型输入时会将一个随机变量$z$与原始输入$x$一并输入到模型中\n",
    "- 输出不再固定，而变成了一个复杂的分布\n",
    "- 与监督学习相比，单一输出变成了输出概率分布\n",
    "- 可以输出多种可能的模型，且这些输出都是对的（“创造性”的输出）\n",
    "### unconditional generation & conditional generation\n",
    "一个不需要原始输入$x$，而另一个需要\n",
    "## 1.2 辨别器（discriminator）\n",
    "- 输出数值越大就代表生成器的生成质量越好越真实\n",
    "- 与生成器存在对抗关系\n"
   ]
  },
  {
   "cell_type": "markdown",
   "metadata": {},
   "source": [
    "# 2. Training\n",
    "1. 步骤一，固定生成器训练判别器；\n",
    "   1. 判别器的训练目标是要分辨真正的图片与生成器产生出来的图片间的差异\n",
    "   2. 把真正的图片都标$1$，生成器产生出来的图片都标$0$\n",
    "2. 步骤二，固定判别器训练生成器。\n",
    "3. 接下来就是重复以上的训练\n",
    "\n",
    "## 为什么不能将生成器和判别器联合优化\n",
    "因为假设要输出的分数越大越好，那我们完全可以直接调整判别器最后的输出层，改变一下偏差值设为很大的值，那输出的得分就会很高\n",
    "\n",
    "## 生成器优化目标\n",
    "- 希望优化目标越大越好\n",
    "    1. 可以直接在优化目标前加“负号”\n",
    "    2. 可以使用梯度上升进行优化\n"
   ]
  }
 ],
 "metadata": {
  "kernelspec": {
   "display_name": "DL",
   "language": "python",
   "name": "python3"
  },
  "language_info": {
   "name": "python",
   "version": "3.11.9"
  }
 },
 "nbformat": 4,
 "nbformat_minor": 2
}
